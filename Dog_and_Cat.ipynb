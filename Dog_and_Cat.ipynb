{
 "cells": [
  {
   "cell_type": "code",
   "execution_count": 23,
   "id": "d0355d51",
   "metadata": {
    "vscode": {
     "languageId": "r"
    }
   },
   "outputs": [],
   "source": [
    "from tensorflow.keras.preprocessing.image import ImageDataGenerator\n",
    "import tensorflow as tf"
   ]
  },
  {
   "cell_type": "code",
   "execution_count": 24,
   "id": "2468ec75",
   "metadata": {
    "vscode": {
     "languageId": "r"
    }
   },
   "outputs": [],
   "source": [
    "import matplotlib.pyplot as plt"
   ]
  },
  {
   "cell_type": "code",
   "execution_count": 25,
   "id": "d0d39df7",
   "metadata": {
    "vscode": {
     "languageId": "r"
    }
   },
   "outputs": [],
   "source": [
    "train_datagen = ImageDataGenerator(rescale=1 / 255.0,validation_split=0.15)"
   ]
  },
  {
   "cell_type": "code",
   "execution_count": 26,
   "id": "e4737e76",
   "metadata": {
    "vscode": {
     "languageId": "r"
    }
   },
   "outputs": [
    {
     "name": "stdout",
     "output_type": "stream",
     "text": [
      "Found 21250 images belonging to 2 classes.\n"
     ]
    }
   ],
   "source": [
    "train_generator = train_datagen.flow_from_directory(\n",
    "'data/train/',\n",
    "target_size=(150, 150),\n",
    "batch_size=10,\n",
    "class_mode='binary',\n",
    "subset='training')"
   ]
  },
  {
   "cell_type": "code",
   "execution_count": 27,
   "id": "8f1ee678",
   "metadata": {
    "vscode": {
     "languageId": "r"
    }
   },
   "outputs": [
    {
     "name": "stdout",
     "output_type": "stream",
     "text": [
      "Found 3750 images belonging to 2 classes.\n"
     ]
    }
   ],
   "source": [
    "validation_generator = train_datagen.flow_from_directory(\n",
    "'data/train/',\n",
    "target_size=(150, 150),\n",
    "batch_size=10,\n",
    "class_mode='binary',\n",
    "subset='validation')"
   ]
  },
  {
   "cell_type": "code",
   "execution_count": 28,
   "id": "6f7b3c76",
   "metadata": {
    "vscode": {
     "languageId": "r"
    }
   },
   "outputs": [
    {
     "name": "stdout",
     "output_type": "stream",
     "text": [
      "Model: \"sequential_3\"\n",
      "_________________________________________________________________\n",
      " Layer (type)                Output Shape              Param #   \n",
      "=================================================================\n",
      " conv2d_15 (Conv2D)          (None, 148, 148, 16)      448       \n",
      "                                                                 \n",
      " max_pooling2d_15 (MaxPoolin  (None, 74, 74, 16)       0         \n",
      " g2D)                                                            \n",
      "                                                                 \n",
      " conv2d_16 (Conv2D)          (None, 72, 72, 32)        4640      \n",
      "                                                                 \n",
      " max_pooling2d_16 (MaxPoolin  (None, 36, 36, 32)       0         \n",
      " g2D)                                                            \n",
      "                                                                 \n",
      " conv2d_17 (Conv2D)          (None, 34, 34, 64)        18496     \n",
      "                                                                 \n",
      " max_pooling2d_17 (MaxPoolin  (None, 17, 17, 64)       0         \n",
      " g2D)                                                            \n",
      "                                                                 \n",
      " conv2d_18 (Conv2D)          (None, 15, 15, 128)       73856     \n",
      "                                                                 \n",
      " max_pooling2d_18 (MaxPoolin  (None, 7, 7, 128)        0         \n",
      " g2D)                                                            \n",
      "                                                                 \n",
      " conv2d_19 (Conv2D)          (None, 5, 5, 256)         295168    \n",
      "                                                                 \n",
      " max_pooling2d_19 (MaxPoolin  (None, 2, 2, 256)        0         \n",
      " g2D)                                                            \n",
      "                                                                 \n",
      " flatten_3 (Flatten)         (None, 1024)              0         \n",
      "                                                                 \n",
      " dense_17 (Dense)            (None, 512)               524800    \n",
      "                                                                 \n",
      " dense_18 (Dense)            (None, 256)               131328    \n",
      "                                                                 \n",
      " dense_19 (Dense)            (None, 128)               32896     \n",
      "                                                                 \n",
      " dense_20 (Dense)            (None, 64)                8256      \n",
      "                                                                 \n",
      " dense_21 (Dense)            (None, 1)                 65        \n",
      "                                                                 \n",
      "=================================================================\n",
      "Total params: 1,089,953\n",
      "Trainable params: 1,089,953\n",
      "Non-trainable params: 0\n",
      "_________________________________________________________________\n"
     ]
    }
   ],
   "source": [
    "model = tf.keras.models.Sequential([\n",
    "tf.keras.layers.Conv2D(16, (3,3), activation='relu', input_shape=(150, 150, 3)),\n",
    "tf.keras.layers.MaxPooling2D(2, 2),\n",
    "tf.keras.layers.Conv2D(32, (3,3), activation='relu'),\n",
    "tf.keras.layers.MaxPooling2D(2,2),\n",
    "tf.keras.layers.Conv2D(64, (3,3), activation='relu'),\n",
    "tf.keras.layers.MaxPooling2D(2,2),\n",
    "tf.keras.layers.Conv2D(128, (3,3), activation='relu'),\n",
    "tf.keras.layers.MaxPooling2D(2,2),\n",
    "tf.keras.layers.Conv2D(256, (3,3), activation='relu'),\n",
    "tf.keras.layers.MaxPooling2D(2,2),\n",
    "tf.keras.layers.Flatten(),\n",
    "tf.keras.layers.Dense(512, activation='relu'),\n",
    "tf.keras.layers.Dense(256, activation='relu'),\n",
    "tf.keras.layers.Dense(128, activation='relu'),\n",
    "tf.keras.layers.Dense(64, activation='relu'),\n",
    "tf.keras.layers.Dense(1, activation='sigmoid')\n",
    "])\n",
    "model.summary()"
   ]
  },
  {
   "cell_type": "code",
   "execution_count": 29,
   "id": "52065f32",
   "metadata": {
    "vscode": {
     "languageId": "r"
    }
   },
   "outputs": [],
   "source": [
    "from tensorflow.keras.optimizers import RMSprop"
   ]
  },
  {
   "cell_type": "code",
   "execution_count": 30,
   "id": "48f9ff68",
   "metadata": {
    "vscode": {
     "languageId": "r"
    }
   },
   "outputs": [],
   "source": [
    "model.compile(loss='binary_crossentropy',\n",
    "    optimizer=RMSprop(learning_rate=0.001),\n",
    "    metrics=['acc'])"
   ]
  },
  {
   "cell_type": "code",
   "execution_count": 31,
   "id": "78a30a30",
   "metadata": {
    "vscode": {
     "languageId": "r"
    }
   },
   "outputs": [
    {
     "name": "stdout",
     "output_type": "stream",
     "text": [
      "Epoch 1/100\n",
      "100/100 - 14s - loss: 0.6939 - acc: 0.4690 - val_loss: 0.6939 - val_acc: 0.4820 - 14s/epoch - 138ms/step\n",
      "Epoch 2/100\n",
      "100/100 - 12s - loss: 0.6936 - acc: 0.5040 - val_loss: 0.6930 - val_acc: 0.5140 - 12s/epoch - 121ms/step\n",
      "Epoch 3/100\n",
      "100/100 - 12s - loss: 0.6937 - acc: 0.4920 - val_loss: 0.6929 - val_acc: 0.5100 - 12s/epoch - 119ms/step\n",
      "Epoch 4/100\n",
      "100/100 - 12s - loss: 0.6940 - acc: 0.4940 - val_loss: 0.6931 - val_acc: 0.5340 - 12s/epoch - 117ms/step\n",
      "Epoch 5/100\n",
      "100/100 - 12s - loss: 0.6923 - acc: 0.4930 - val_loss: 0.6903 - val_acc: 0.5380 - 12s/epoch - 121ms/step\n",
      "Epoch 6/100\n",
      "100/100 - 13s - loss: 0.6925 - acc: 0.5250 - val_loss: 0.6951 - val_acc: 0.4720 - 13s/epoch - 129ms/step\n",
      "Epoch 7/100\n",
      "100/100 - 14s - loss: 0.6826 - acc: 0.5360 - val_loss: 0.6999 - val_acc: 0.5400 - 14s/epoch - 138ms/step\n",
      "Epoch 8/100\n",
      "100/100 - 13s - loss: 0.6959 - acc: 0.5700 - val_loss: 0.6997 - val_acc: 0.5280 - 13s/epoch - 134ms/step\n",
      "Epoch 9/100\n",
      "100/100 - 13s - loss: 0.6780 - acc: 0.5910 - val_loss: 0.6436 - val_acc: 0.6460 - 13s/epoch - 130ms/step\n",
      "Epoch 10/100\n",
      "100/100 - 12s - loss: 0.6679 - acc: 0.5900 - val_loss: 0.6305 - val_acc: 0.6420 - 12s/epoch - 116ms/step\n",
      "Epoch 11/100\n",
      "100/100 - 12s - loss: 0.6492 - acc: 0.6250 - val_loss: 0.6371 - val_acc: 0.6460 - 12s/epoch - 116ms/step\n",
      "Epoch 12/100\n",
      "100/100 - 14s - loss: 0.6542 - acc: 0.6100 - val_loss: 0.6480 - val_acc: 0.6440 - 14s/epoch - 136ms/step\n",
      "Epoch 13/100\n",
      "100/100 - 11s - loss: 0.6527 - acc: 0.6470 - val_loss: 0.6408 - val_acc: 0.5980 - 11s/epoch - 111ms/step\n",
      "Epoch 14/100\n",
      "100/100 - 12s - loss: 0.6602 - acc: 0.6150 - val_loss: 0.6583 - val_acc: 0.5820 - 12s/epoch - 122ms/step\n",
      "Epoch 15/100\n",
      "100/100 - 13s - loss: 0.6272 - acc: 0.6460 - val_loss: 0.6284 - val_acc: 0.6360 - 13s/epoch - 130ms/step\n",
      "Epoch 16/100\n",
      "100/100 - 13s - loss: 0.6345 - acc: 0.6500 - val_loss: 0.5729 - val_acc: 0.7000 - 13s/epoch - 127ms/step\n",
      "Epoch 17/100\n",
      "100/100 - 11s - loss: 0.6179 - acc: 0.6750 - val_loss: 0.5966 - val_acc: 0.7000 - 11s/epoch - 108ms/step\n",
      "Epoch 18/100\n",
      "100/100 - 11s - loss: 0.6158 - acc: 0.6820 - val_loss: 0.6975 - val_acc: 0.6360 - 11s/epoch - 107ms/step\n",
      "Epoch 19/100\n",
      "100/100 - 10s - loss: 0.6150 - acc: 0.6770 - val_loss: 0.6841 - val_acc: 0.6460 - 10s/epoch - 104ms/step\n",
      "Epoch 20/100\n",
      "100/100 - 11s - loss: 0.6145 - acc: 0.6670 - val_loss: 0.5649 - val_acc: 0.7220 - 11s/epoch - 114ms/step\n",
      "Epoch 21/100\n",
      "100/100 - 13s - loss: 0.6014 - acc: 0.6810 - val_loss: 0.5576 - val_acc: 0.6980 - 13s/epoch - 130ms/step\n",
      "Epoch 22/100\n",
      "100/100 - 15s - loss: 0.5940 - acc: 0.6800 - val_loss: 0.5596 - val_acc: 0.7240 - 15s/epoch - 150ms/step\n",
      "Epoch 23/100\n",
      "100/100 - 14s - loss: 0.5848 - acc: 0.7120 - val_loss: 0.5999 - val_acc: 0.6860 - 14s/epoch - 136ms/step\n",
      "Epoch 24/100\n",
      "100/100 - 15s - loss: 0.5456 - acc: 0.7240 - val_loss: 0.5356 - val_acc: 0.7440 - 15s/epoch - 155ms/step\n",
      "Epoch 25/100\n",
      "100/100 - 13s - loss: 0.5559 - acc: 0.7330 - val_loss: 0.5239 - val_acc: 0.7400 - 13s/epoch - 128ms/step\n",
      "Epoch 26/100\n",
      "100/100 - 11s - loss: 0.5587 - acc: 0.7350 - val_loss: 0.5224 - val_acc: 0.7440 - 11s/epoch - 111ms/step\n",
      "Epoch 27/100\n",
      "100/100 - 11s - loss: 0.5532 - acc: 0.7180 - val_loss: 0.4813 - val_acc: 0.7980 - 11s/epoch - 107ms/step\n",
      "Epoch 28/100\n",
      "100/100 - 10s - loss: 0.5357 - acc: 0.7360 - val_loss: 0.5907 - val_acc: 0.6920 - 10s/epoch - 100ms/step\n",
      "Epoch 29/100\n",
      "100/100 - 10s - loss: 0.5232 - acc: 0.7380 - val_loss: 0.4960 - val_acc: 0.7660 - 10s/epoch - 100ms/step\n",
      "Epoch 30/100\n",
      "100/100 - 10s - loss: 0.5283 - acc: 0.7590 - val_loss: 0.5594 - val_acc: 0.7320 - 10s/epoch - 100ms/step\n",
      "Epoch 31/100\n",
      "100/100 - 10s - loss: 0.5193 - acc: 0.7480 - val_loss: 0.5799 - val_acc: 0.7240 - 10s/epoch - 100ms/step\n",
      "Epoch 32/100\n",
      "100/100 - 10s - loss: 0.5250 - acc: 0.7580 - val_loss: 0.5184 - val_acc: 0.7220 - 10s/epoch - 99ms/step\n",
      "Epoch 33/100\n",
      "100/100 - 10s - loss: 0.5016 - acc: 0.7660 - val_loss: 0.4779 - val_acc: 0.7700 - 10s/epoch - 104ms/step\n",
      "Epoch 34/100\n",
      "100/100 - 11s - loss: 0.4947 - acc: 0.7650 - val_loss: 0.5368 - val_acc: 0.7420 - 11s/epoch - 110ms/step\n",
      "Epoch 35/100\n",
      "100/100 - 15s - loss: 0.4614 - acc: 0.7940 - val_loss: 0.5257 - val_acc: 0.7660 - 15s/epoch - 148ms/step\n",
      "Epoch 36/100\n",
      "100/100 - 12s - loss: 0.4941 - acc: 0.7550 - val_loss: 0.5832 - val_acc: 0.7400 - 12s/epoch - 118ms/step\n",
      "Epoch 37/100\n",
      "100/100 - 10s - loss: 0.4953 - acc: 0.7690 - val_loss: 0.5126 - val_acc: 0.7680 - 10s/epoch - 100ms/step\n",
      "Epoch 38/100\n",
      "100/100 - 10s - loss: 0.4588 - acc: 0.7850 - val_loss: 0.4139 - val_acc: 0.8020 - 10s/epoch - 100ms/step\n",
      "Epoch 39/100\n",
      "100/100 - 10s - loss: 0.4643 - acc: 0.7930 - val_loss: 0.5977 - val_acc: 0.7420 - 10s/epoch - 104ms/step\n",
      "Epoch 40/100\n",
      "100/100 - 10s - loss: 0.4884 - acc: 0.7640 - val_loss: 0.4890 - val_acc: 0.7480 - 10s/epoch - 101ms/step\n",
      "Epoch 41/100\n",
      "100/100 - 10s - loss: 0.4469 - acc: 0.7950 - val_loss: 0.4885 - val_acc: 0.7700 - 10s/epoch - 100ms/step\n",
      "Epoch 42/100\n",
      "100/100 - 10s - loss: 0.4861 - acc: 0.7610 - val_loss: 0.4464 - val_acc: 0.7680 - 10s/epoch - 104ms/step\n",
      "Epoch 43/100\n",
      "100/100 - 10s - loss: 0.4861 - acc: 0.7730 - val_loss: 0.5005 - val_acc: 0.7880 - 10s/epoch - 100ms/step\n",
      "Epoch 44/100\n",
      "100/100 - 13s - loss: 0.4759 - acc: 0.7790 - val_loss: 0.5392 - val_acc: 0.7180 - 13s/epoch - 125ms/step\n",
      "Epoch 45/100\n",
      "100/100 - 12s - loss: 0.4543 - acc: 0.7970 - val_loss: 0.4932 - val_acc: 0.7540 - 12s/epoch - 119ms/step\n",
      "Epoch 46/100\n",
      "100/100 - 13s - loss: 0.4450 - acc: 0.8020 - val_loss: 0.5660 - val_acc: 0.7700 - 13s/epoch - 133ms/step\n",
      "Epoch 47/100\n",
      "100/100 - 11s - loss: 0.4273 - acc: 0.8160 - val_loss: 0.4100 - val_acc: 0.8020 - 11s/epoch - 114ms/step\n",
      "Epoch 48/100\n",
      "100/100 - 13s - loss: 0.4251 - acc: 0.8030 - val_loss: 0.6326 - val_acc: 0.7060 - 13s/epoch - 133ms/step\n",
      "Epoch 49/100\n",
      "100/100 - 10s - loss: 0.4499 - acc: 0.7980 - val_loss: 0.4776 - val_acc: 0.7760 - 10s/epoch - 104ms/step\n",
      "Epoch 50/100\n",
      "100/100 - 10s - loss: 0.4340 - acc: 0.8110 - val_loss: 0.4413 - val_acc: 0.7920 - 10s/epoch - 100ms/step\n",
      "Epoch 51/100\n",
      "100/100 - 11s - loss: 0.4043 - acc: 0.8160 - val_loss: 0.4444 - val_acc: 0.8020 - 11s/epoch - 106ms/step\n",
      "Epoch 52/100\n",
      "100/100 - 10s - loss: 0.4492 - acc: 0.8010 - val_loss: 0.4426 - val_acc: 0.7780 - 10s/epoch - 101ms/step\n",
      "Epoch 53/100\n",
      "100/100 - 10s - loss: 0.4146 - acc: 0.8120 - val_loss: 0.4430 - val_acc: 0.8000 - 10s/epoch - 103ms/step\n",
      "Epoch 54/100\n",
      "100/100 - 10s - loss: 0.4382 - acc: 0.7980 - val_loss: 0.4851 - val_acc: 0.7840 - 10s/epoch - 100ms/step\n",
      "Epoch 55/100\n",
      "100/100 - 11s - loss: 0.4056 - acc: 0.8240 - val_loss: 0.4249 - val_acc: 0.8140 - 11s/epoch - 110ms/step\n",
      "Epoch 56/100\n",
      "100/100 - 10s - loss: 0.4102 - acc: 0.8210 - val_loss: 0.4785 - val_acc: 0.7900 - 10s/epoch - 102ms/step\n",
      "Epoch 57/100\n",
      "100/100 - 12s - loss: 0.3695 - acc: 0.8460 - val_loss: 0.6608 - val_acc: 0.7800 - 12s/epoch - 116ms/step\n",
      "Epoch 58/100\n",
      "100/100 - 11s - loss: 0.3833 - acc: 0.8370 - val_loss: 0.4298 - val_acc: 0.8280 - 11s/epoch - 110ms/step\n",
      "Epoch 59/100\n",
      "100/100 - 10s - loss: 0.3822 - acc: 0.8370 - val_loss: 0.4167 - val_acc: 0.8180 - 10s/epoch - 101ms/step\n",
      "Epoch 60/100\n",
      "100/100 - 10s - loss: 0.3724 - acc: 0.8250 - val_loss: 0.5039 - val_acc: 0.7920 - 10s/epoch - 100ms/step\n",
      "Epoch 61/100\n",
      "100/100 - 15s - loss: 0.4040 - acc: 0.8350 - val_loss: 0.3497 - val_acc: 0.8400 - 15s/epoch - 150ms/step\n",
      "Epoch 62/100\n",
      "100/100 - 16s - loss: 0.4200 - acc: 0.8230 - val_loss: 0.4977 - val_acc: 0.8100 - 16s/epoch - 165ms/step\n",
      "Epoch 63/100\n",
      "100/100 - 17s - loss: 0.4012 - acc: 0.8070 - val_loss: 0.3811 - val_acc: 0.8320 - 17s/epoch - 167ms/step\n",
      "Epoch 64/100\n",
      "100/100 - 16s - loss: 0.3788 - acc: 0.8420 - val_loss: 0.4138 - val_acc: 0.8080 - 16s/epoch - 161ms/step\n",
      "Epoch 65/100\n",
      "100/100 - 17s - loss: 0.4300 - acc: 0.8200 - val_loss: 0.4880 - val_acc: 0.8140 - 17s/epoch - 170ms/step\n",
      "Epoch 66/100\n",
      "100/100 - 16s - loss: 0.3657 - acc: 0.8490 - val_loss: 0.4166 - val_acc: 0.7980 - 16s/epoch - 165ms/step\n",
      "Epoch 67/100\n",
      "100/100 - 17s - loss: 0.3284 - acc: 0.8480 - val_loss: 0.4413 - val_acc: 0.8360 - 17s/epoch - 166ms/step\n",
      "Epoch 68/100\n",
      "100/100 - 14s - loss: 0.3663 - acc: 0.8460 - val_loss: 0.4807 - val_acc: 0.7960 - 14s/epoch - 142ms/step\n",
      "Epoch 69/100\n",
      "100/100 - 12s - loss: 0.3788 - acc: 0.8610 - val_loss: 0.3918 - val_acc: 0.8300 - 12s/epoch - 121ms/step\n",
      "Epoch 70/100\n",
      "100/100 - 12s - loss: 0.3546 - acc: 0.8450 - val_loss: 0.4043 - val_acc: 0.8060 - 12s/epoch - 119ms/step\n"
     ]
    },
    {
     "name": "stdout",
     "output_type": "stream",
     "text": [
      "Epoch 71/100\n",
      "100/100 - 11s - loss: 0.3642 - acc: 0.8430 - val_loss: 0.3487 - val_acc: 0.8560 - 11s/epoch - 106ms/step\n",
      "Epoch 72/100\n",
      "100/100 - 10s - loss: 0.3731 - acc: 0.8340 - val_loss: 0.3927 - val_acc: 0.8260 - 10s/epoch - 104ms/step\n",
      "Epoch 73/100\n",
      "100/100 - 10s - loss: 0.3476 - acc: 0.8490 - val_loss: 0.4198 - val_acc: 0.8280 - 10s/epoch - 102ms/step\n",
      "Epoch 74/100\n",
      "100/100 - 10s - loss: 0.3438 - acc: 0.8580 - val_loss: 0.3833 - val_acc: 0.8580 - 10s/epoch - 100ms/step\n",
      "Epoch 75/100\n",
      "100/100 - 10s - loss: 0.3182 - acc: 0.8640 - val_loss: 0.5230 - val_acc: 0.8060 - 10s/epoch - 101ms/step\n",
      "Epoch 76/100\n",
      "100/100 - 10s - loss: 0.3421 - acc: 0.8660 - val_loss: 0.3743 - val_acc: 0.8220 - 10s/epoch - 102ms/step\n",
      "Epoch 77/100\n",
      "100/100 - 11s - loss: 0.3329 - acc: 0.8650 - val_loss: 0.4432 - val_acc: 0.8240 - 11s/epoch - 114ms/step\n",
      "Epoch 78/100\n",
      "100/100 - 11s - loss: 0.3477 - acc: 0.8450 - val_loss: 0.5546 - val_acc: 0.7620 - 11s/epoch - 105ms/step\n",
      "Epoch 79/100\n",
      "100/100 - 10s - loss: 0.3420 - acc: 0.8600 - val_loss: 0.4449 - val_acc: 0.8160 - 10s/epoch - 102ms/step\n",
      "Epoch 80/100\n",
      "100/100 - 10s - loss: 0.3123 - acc: 0.8730 - val_loss: 0.4590 - val_acc: 0.8220 - 10s/epoch - 103ms/step\n",
      "Epoch 81/100\n",
      "100/100 - 10s - loss: 0.3317 - acc: 0.8620 - val_loss: 0.4286 - val_acc: 0.8300 - 10s/epoch - 105ms/step\n",
      "Epoch 82/100\n",
      "100/100 - 12s - loss: 0.3478 - acc: 0.8530 - val_loss: 0.4177 - val_acc: 0.8080 - 12s/epoch - 124ms/step\n",
      "Epoch 83/100\n",
      "100/100 - 13s - loss: 0.3268 - acc: 0.8600 - val_loss: 0.4015 - val_acc: 0.8420 - 13s/epoch - 129ms/step\n",
      "Epoch 84/100\n",
      "100/100 - 13s - loss: 0.2715 - acc: 0.8950 - val_loss: 0.4986 - val_acc: 0.8280 - 13s/epoch - 131ms/step\n",
      "Epoch 85/100\n",
      "100/100 - 13s - loss: 0.2807 - acc: 0.8820 - val_loss: 0.4253 - val_acc: 0.8560 - 13s/epoch - 130ms/step\n",
      "Epoch 86/100\n",
      "100/100 - 13s - loss: 0.3115 - acc: 0.8790 - val_loss: 0.4398 - val_acc: 0.8180 - 13s/epoch - 129ms/step\n",
      "Epoch 87/100\n",
      "100/100 - 14s - loss: 0.3456 - acc: 0.8620 - val_loss: 0.4104 - val_acc: 0.8200 - 14s/epoch - 139ms/step\n",
      "Epoch 88/100\n",
      "100/100 - 13s - loss: 0.2942 - acc: 0.8930 - val_loss: 0.4517 - val_acc: 0.8300 - 13s/epoch - 131ms/step\n",
      "Epoch 89/100\n",
      "100/100 - 13s - loss: 0.3244 - acc: 0.8680 - val_loss: 0.5426 - val_acc: 0.7560 - 13s/epoch - 131ms/step\n",
      "Epoch 90/100\n",
      "100/100 - 15s - loss: 0.3357 - acc: 0.8840 - val_loss: 0.6426 - val_acc: 0.8000 - 15s/epoch - 148ms/step\n",
      "Epoch 91/100\n",
      "100/100 - 20s - loss: 0.2828 - acc: 0.8830 - val_loss: 0.4061 - val_acc: 0.8600 - 20s/epoch - 195ms/step\n",
      "Epoch 92/100\n",
      "100/100 - 16s - loss: 0.3428 - acc: 0.8560 - val_loss: 0.4741 - val_acc: 0.8480 - 16s/epoch - 159ms/step\n",
      "Epoch 93/100\n",
      "100/100 - 15s - loss: 0.2780 - acc: 0.8850 - val_loss: 0.4637 - val_acc: 0.8320 - 15s/epoch - 151ms/step\n",
      "Epoch 94/100\n",
      "100/100 - 17s - loss: 0.3217 - acc: 0.8790 - val_loss: 0.3789 - val_acc: 0.8200 - 17s/epoch - 175ms/step\n",
      "Epoch 95/100\n",
      "100/100 - 15s - loss: 0.3024 - acc: 0.8870 - val_loss: 0.2902 - val_acc: 0.8860 - 15s/epoch - 151ms/step\n",
      "Epoch 96/100\n",
      "100/100 - 13s - loss: 0.3243 - acc: 0.8550 - val_loss: 0.4077 - val_acc: 0.8500 - 13s/epoch - 131ms/step\n",
      "Epoch 97/100\n",
      "100/100 - 13s - loss: 0.3044 - acc: 0.8860 - val_loss: 0.3093 - val_acc: 0.8720 - 13s/epoch - 132ms/step\n",
      "Epoch 98/100\n",
      "100/100 - 13s - loss: 0.2995 - acc: 0.8680 - val_loss: 2.1469 - val_acc: 0.6380 - 13s/epoch - 131ms/step\n",
      "Epoch 99/100\n",
      "100/100 - 13s - loss: 0.3097 - acc: 0.8920 - val_loss: 0.4913 - val_acc: 0.8300 - 13s/epoch - 130ms/step\n",
      "Epoch 100/100\n",
      "100/100 - 13s - loss: 0.3007 - acc: 0.8700 - val_loss: 0.5283 - val_acc: 0.8080 - 13s/epoch - 130ms/step\n"
     ]
    }
   ],
   "source": [
    "history = model.fit(\n",
    "    train_generator,\n",
    "    steps_per_epoch=100,\n",
    "    epochs=100,\n",
    "    validation_data=validation_generator,\n",
    "    validation_steps=50,\n",
    "    verbose=2)"
   ]
  },
  {
   "cell_type": "code",
   "execution_count": 32,
   "id": "f00a9007",
   "metadata": {
    "vscode": {
     "languageId": "r"
    }
   },
   "outputs": [],
   "source": [
    "model.save(\"catdog.h5\", overwrite=True)"
   ]
  },
  {
   "cell_type": "code",
   "execution_count": 33,
   "id": "23a3cded",
   "metadata": {
    "vscode": {
     "languageId": "r"
    }
   },
   "outputs": [],
   "source": [
    "model = tf.keras.models.load_model(\"catdog.h5\")"
   ]
  },
  {
   "cell_type": "code",
   "execution_count": 34,
   "id": "2882f4b8",
   "metadata": {
    "vscode": {
     "languageId": "r"
    }
   },
   "outputs": [
    {
     "data": {
      "text/plain": [
       "[<matplotlib.lines.Line2D at 0x181e9b56ac0>]"
      ]
     },
     "execution_count": 34,
     "metadata": {},
     "output_type": "execute_result"
    },
    {
     "data": {
      "image/png": "[encoded data removed]",
      "text/plain": [
       "<Figure size 640x480 with 1 Axes>"
      ]
     },
     "metadata": {},
     "output_type": "display_data"
    }
   ],
   "source": [
    "plt.plot(history.history['acc'])"
   ]
  },
  {
   "cell_type": "code",
   "execution_count": null,
   "id": "8ac6f76a",
   "metadata": {
    "vscode": {
     "languageId": "r"
    }
   },
   "outputs": [],
   "source": []
  }
 ],
 "metadata": {
  "kernelspec": {
   "display_name": "R",
   "language": "R",
   "name": "ir"
  },
  "language_info": {
   "codemirror_mode": {
    "name": "ipython",
    "version": 3
   },
   "file_extension": ".py",
   "mimetype": "text/x-python",
   "name": "R",
   "nbconvert_exporter": "python",
   "pygments_lexer": "ipython3",
   "version": "3.9.13"
  }
 },
 "nbformat": 4,
 "nbformat_minor": 5
}
